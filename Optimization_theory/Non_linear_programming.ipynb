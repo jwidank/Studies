{
 "cells": [
  {
   "cell_type": "markdown",
   "metadata": {},
   "source": [
    "# Project - Nonlinear programming\n",
    "Bartosz Tuzel, Jan Widanka"
   ]
  },
  {
   "cell_type": "markdown",
   "metadata": {},
   "source": [
    "An environmental scientist wants to find out whether the temperatures or their amplitudes in his country have an increasing trend. In order to do that he tries to fit the curve (showing theoretical dependence of average monthly temperature $T$ on time in months $t$):\n",
    "\n",
    "$$ T(t) = \\left(\\alpha(t − t_{0}) + \\beta \\right) \\sin \\left(\\frac{2\\pi(t − t_{0})}{12} \\right) + \\gamma t + \\delta, $$\n",
    "\n",
    "(where $\\alpha, \\beta, \\gamma, \\delta$ and $t_{0}$ are the parameters of the curve) to the average monthly temperatures given in the table below: "
   ]
  },
  {
   "cell_type": "markdown",
   "metadata": {},
   "source": [
    "Based on that we will write a procedure allowing us to find the parameters of the function $T$ minimizing the sum of the squares of the deviations between the real and the predicted values of the temperatures."
   ]
  },
  {
   "cell_type": "code",
   "execution_count": 1,
   "metadata": {},
   "outputs": [],
   "source": [
    "import matplotlib.pyplot as plt\n",
    "import pandas as pd\n",
    "import autograd.numpy as np\n",
    "from autograd import grad, hessian"
   ]
  },
  {
   "cell_type": "code",
   "execution_count": 2,
   "metadata": {},
   "outputs": [],
   "source": [
    "data = {'year':[2013, 2014, 2015, 2016, 2017, 2018, 2019, 2020, 2021, 2022],\n",
    "        'Jan': [ 1. ,  1.3,  0.1,  0.9,  1.9,  2.1,  1.9,  1.5,  2.4,  1.4],\n",
    "        'Feb': [ 1.3,  0.7,  1.2,  1.6,  2.3,  0.2,  0.9,  1.5,  1.7,  2.6],\n",
    "        'Mar': [ 3.5,  3.2,  3.8,  5.1,  4.5,  3.9,  4.5,  5.4,  5. ,  5.9],\n",
    "        'Apr': [ 7.8,  6.7,  5.3,  7.9,  8.4,  7.3,  8.9,  9.1,  6.1,  8.4],\n",
    "        'May': [12.5, 12.7, 11.5, 10.2, 12. , 11.6, 13.8, 15.1, 13.7, 12.9],\n",
    "        'Jun': [15.1, 14.9, 14.5, 14.2, 15.9, 15.7, 16.8, 15.3, 17.2, 18.3],\n",
    "        'Jul': [17.9, 15.9, 16.1, 16.3, 17.8, 18.5, 17.9, 18.8, 20.1, 19.7],\n",
    "        'Aug': [15.7, 16.3, 17.8, 19.8, 18.9, 19.9, 18.1, 20. , 18.7, 20.5],\n",
    "        'Sep': [12.9, 14.5, 15.1, 12.5, 13. , 12.7, 15.6, 14.1, 14.8, 15.7],\n",
    "        'Oct': [ 9.1,  9. ,  8. ,  9.3,  8.7,  8.1,  7.4,  8.5,  7.9,  9.6],\n",
    "        'Nov': [ 4.5,  4.1,  3.2,  6. ,  6.3,  4.2,  6.9,  5.3,  7.7,  3.7],\n",
    "        'Dec': [ 2.1,  1.2,  1.9,  3.2,  3. ,  2.8,  2.3,  1.7,  3.5,  2.6]}"
   ]
  },
  {
   "cell_type": "code",
   "execution_count": 3,
   "metadata": {},
   "outputs": [],
   "source": [
    "avg_temperature_data_frame = pd.DataFrame(data)\n",
    "avg_temperature_data_frame = avg_temperature_data_frame.set_index('year')"
   ]
  },
  {
   "cell_type": "code",
   "execution_count": 4,
   "metadata": {},
   "outputs": [
    {
     "data": {
      "text/html": [
       "<div>\n",
       "<style scoped>\n",
       "    .dataframe tbody tr th:only-of-type {\n",
       "        vertical-align: middle;\n",
       "    }\n",
       "\n",
       "    .dataframe tbody tr th {\n",
       "        vertical-align: top;\n",
       "    }\n",
       "\n",
       "    .dataframe thead th {\n",
       "        text-align: right;\n",
       "    }\n",
       "</style>\n",
       "<table border=\"1\" class=\"dataframe\">\n",
       "  <thead>\n",
       "    <tr style=\"text-align: right;\">\n",
       "      <th></th>\n",
       "      <th>Jan</th>\n",
       "      <th>Feb</th>\n",
       "      <th>Mar</th>\n",
       "      <th>Apr</th>\n",
       "      <th>May</th>\n",
       "      <th>Jun</th>\n",
       "      <th>Jul</th>\n",
       "      <th>Aug</th>\n",
       "      <th>Sep</th>\n",
       "      <th>Oct</th>\n",
       "      <th>Nov</th>\n",
       "      <th>Dec</th>\n",
       "    </tr>\n",
       "    <tr>\n",
       "      <th>year</th>\n",
       "      <th></th>\n",
       "      <th></th>\n",
       "      <th></th>\n",
       "      <th></th>\n",
       "      <th></th>\n",
       "      <th></th>\n",
       "      <th></th>\n",
       "      <th></th>\n",
       "      <th></th>\n",
       "      <th></th>\n",
       "      <th></th>\n",
       "      <th></th>\n",
       "    </tr>\n",
       "  </thead>\n",
       "  <tbody>\n",
       "    <tr>\n",
       "      <th>2013</th>\n",
       "      <td>1.0</td>\n",
       "      <td>1.3</td>\n",
       "      <td>3.5</td>\n",
       "      <td>7.8</td>\n",
       "      <td>12.5</td>\n",
       "      <td>15.1</td>\n",
       "      <td>17.9</td>\n",
       "      <td>15.7</td>\n",
       "      <td>12.9</td>\n",
       "      <td>9.1</td>\n",
       "      <td>4.5</td>\n",
       "      <td>2.1</td>\n",
       "    </tr>\n",
       "    <tr>\n",
       "      <th>2014</th>\n",
       "      <td>1.3</td>\n",
       "      <td>0.7</td>\n",
       "      <td>3.2</td>\n",
       "      <td>6.7</td>\n",
       "      <td>12.7</td>\n",
       "      <td>14.9</td>\n",
       "      <td>15.9</td>\n",
       "      <td>16.3</td>\n",
       "      <td>14.5</td>\n",
       "      <td>9.0</td>\n",
       "      <td>4.1</td>\n",
       "      <td>1.2</td>\n",
       "    </tr>\n",
       "    <tr>\n",
       "      <th>2015</th>\n",
       "      <td>0.1</td>\n",
       "      <td>1.2</td>\n",
       "      <td>3.8</td>\n",
       "      <td>5.3</td>\n",
       "      <td>11.5</td>\n",
       "      <td>14.5</td>\n",
       "      <td>16.1</td>\n",
       "      <td>17.8</td>\n",
       "      <td>15.1</td>\n",
       "      <td>8.0</td>\n",
       "      <td>3.2</td>\n",
       "      <td>1.9</td>\n",
       "    </tr>\n",
       "    <tr>\n",
       "      <th>2016</th>\n",
       "      <td>0.9</td>\n",
       "      <td>1.6</td>\n",
       "      <td>5.1</td>\n",
       "      <td>7.9</td>\n",
       "      <td>10.2</td>\n",
       "      <td>14.2</td>\n",
       "      <td>16.3</td>\n",
       "      <td>19.8</td>\n",
       "      <td>12.5</td>\n",
       "      <td>9.3</td>\n",
       "      <td>6.0</td>\n",
       "      <td>3.2</td>\n",
       "    </tr>\n",
       "    <tr>\n",
       "      <th>2017</th>\n",
       "      <td>1.9</td>\n",
       "      <td>2.3</td>\n",
       "      <td>4.5</td>\n",
       "      <td>8.4</td>\n",
       "      <td>12.0</td>\n",
       "      <td>15.9</td>\n",
       "      <td>17.8</td>\n",
       "      <td>18.9</td>\n",
       "      <td>13.0</td>\n",
       "      <td>8.7</td>\n",
       "      <td>6.3</td>\n",
       "      <td>3.0</td>\n",
       "    </tr>\n",
       "    <tr>\n",
       "      <th>2018</th>\n",
       "      <td>2.1</td>\n",
       "      <td>0.2</td>\n",
       "      <td>3.9</td>\n",
       "      <td>7.3</td>\n",
       "      <td>11.6</td>\n",
       "      <td>15.7</td>\n",
       "      <td>18.5</td>\n",
       "      <td>19.9</td>\n",
       "      <td>12.7</td>\n",
       "      <td>8.1</td>\n",
       "      <td>4.2</td>\n",
       "      <td>2.8</td>\n",
       "    </tr>\n",
       "    <tr>\n",
       "      <th>2019</th>\n",
       "      <td>1.9</td>\n",
       "      <td>0.9</td>\n",
       "      <td>4.5</td>\n",
       "      <td>8.9</td>\n",
       "      <td>13.8</td>\n",
       "      <td>16.8</td>\n",
       "      <td>17.9</td>\n",
       "      <td>18.1</td>\n",
       "      <td>15.6</td>\n",
       "      <td>7.4</td>\n",
       "      <td>6.9</td>\n",
       "      <td>2.3</td>\n",
       "    </tr>\n",
       "    <tr>\n",
       "      <th>2020</th>\n",
       "      <td>1.5</td>\n",
       "      <td>1.5</td>\n",
       "      <td>5.4</td>\n",
       "      <td>9.1</td>\n",
       "      <td>15.1</td>\n",
       "      <td>15.3</td>\n",
       "      <td>18.8</td>\n",
       "      <td>20.0</td>\n",
       "      <td>14.1</td>\n",
       "      <td>8.5</td>\n",
       "      <td>5.3</td>\n",
       "      <td>1.7</td>\n",
       "    </tr>\n",
       "    <tr>\n",
       "      <th>2021</th>\n",
       "      <td>2.4</td>\n",
       "      <td>1.7</td>\n",
       "      <td>5.0</td>\n",
       "      <td>6.1</td>\n",
       "      <td>13.7</td>\n",
       "      <td>17.2</td>\n",
       "      <td>20.1</td>\n",
       "      <td>18.7</td>\n",
       "      <td>14.8</td>\n",
       "      <td>7.9</td>\n",
       "      <td>7.7</td>\n",
       "      <td>3.5</td>\n",
       "    </tr>\n",
       "    <tr>\n",
       "      <th>2022</th>\n",
       "      <td>1.4</td>\n",
       "      <td>2.6</td>\n",
       "      <td>5.9</td>\n",
       "      <td>8.4</td>\n",
       "      <td>12.9</td>\n",
       "      <td>18.3</td>\n",
       "      <td>19.7</td>\n",
       "      <td>20.5</td>\n",
       "      <td>15.7</td>\n",
       "      <td>9.6</td>\n",
       "      <td>3.7</td>\n",
       "      <td>2.6</td>\n",
       "    </tr>\n",
       "  </tbody>\n",
       "</table>\n",
       "</div>"
      ],
      "text/plain": [
       "      Jan  Feb  Mar  Apr   May   Jun   Jul   Aug   Sep  Oct  Nov  Dec\n",
       "year                                                                 \n",
       "2013  1.0  1.3  3.5  7.8  12.5  15.1  17.9  15.7  12.9  9.1  4.5  2.1\n",
       "2014  1.3  0.7  3.2  6.7  12.7  14.9  15.9  16.3  14.5  9.0  4.1  1.2\n",
       "2015  0.1  1.2  3.8  5.3  11.5  14.5  16.1  17.8  15.1  8.0  3.2  1.9\n",
       "2016  0.9  1.6  5.1  7.9  10.2  14.2  16.3  19.8  12.5  9.3  6.0  3.2\n",
       "2017  1.9  2.3  4.5  8.4  12.0  15.9  17.8  18.9  13.0  8.7  6.3  3.0\n",
       "2018  2.1  0.2  3.9  7.3  11.6  15.7  18.5  19.9  12.7  8.1  4.2  2.8\n",
       "2019  1.9  0.9  4.5  8.9  13.8  16.8  17.9  18.1  15.6  7.4  6.9  2.3\n",
       "2020  1.5  1.5  5.4  9.1  15.1  15.3  18.8  20.0  14.1  8.5  5.3  1.7\n",
       "2021  2.4  1.7  5.0  6.1  13.7  17.2  20.1  18.7  14.8  7.9  7.7  3.5\n",
       "2022  1.4  2.6  5.9  8.4  12.9  18.3  19.7  20.5  15.7  9.6  3.7  2.6"
      ]
     },
     "execution_count": 4,
     "metadata": {},
     "output_type": "execute_result"
    }
   ],
   "source": [
    "avg_temperature_data_frame"
   ]
  },
  {
   "cell_type": "code",
   "execution_count": 5,
   "metadata": {},
   "outputs": [],
   "source": [
    "mounthly_temperature = []\n",
    "for i in range(len(avg_temperature_data_frame)):\n",
    "    mounthly_temperature.extend(list(avg_temperature_data_frame.iloc[i]))"
   ]
  },
  {
   "cell_type": "code",
   "execution_count": 6,
   "metadata": {},
   "outputs": [],
   "source": [
    "t = np.linspace(0, 120, 120)"
   ]
  },
  {
   "cell_type": "code",
   "execution_count": 7,
   "metadata": {},
   "outputs": [
    {
     "data": {
      "image/png": "[encoded data removed]",
      "text/plain": [
       "<Figure size 2160x360 with 1 Axes>"
      ]
     },
     "metadata": {
      "needs_background": "light"
     },
     "output_type": "display_data"
    }
   ],
   "source": [
    "plt.figure(figsize = (30,5))\n",
    "plt.scatter(t, mounthly_temperature)\n",
    "plt.ylim([-10,30])\n",
    "plt.grid()\n",
    "plt.show()"
   ]
  },
  {
   "cell_type": "code",
   "execution_count": 8,
   "metadata": {},
   "outputs": [],
   "source": [
    "def gradient(parameters, data):\n",
    "    alpha, beta, gamma, delta, t_0 = parameters\n",
    "    \n",
    "    gradient_alpha = 2*np.sum([(T(t, alpha, beta, gamma, delta, t_0) - data[t-1]) * \\\n",
    "                               (t - t_0) * np.sin((2 * np.pi * (t - t_0))/12) for t in range(1, len(data) + 1)])\n",
    "    gradient_beta = 2*np.sum([(T(t, alpha, beta, gamma, delta, t_0) - data[t-1]) * \\\n",
    "                              np.sin((2 * np.pi * (t - t_0))/12) for t in range(1, len(data) + 1)])\n",
    "    gradient_gamma = 2*np.sum([(T(t, alpha, beta, gamma, delta, t_0) - data[t-1]) * t for t in range(1, len(data) + 1)])\n",
    "    gradient_delta = 2*np.sum([(T(t, alpha, beta, gamma, delta, t_0) - data[t-1]) for t in range(1, len(data) + 1)])\n",
    "    gradient_t_0 = 2*np.sum([(T(t, alpha, beta, gamma, delta, t_0) - data[t-1]) * \\\n",
    "                             (alpha * np.sin((2 * np.pi * (t - t_0))/12) - 1/6 * np.pi * \\\n",
    "                              np.cos((2 * np.pi * (t - t_0))/12) * (beta + alpha * (t - t_0))) \\\n",
    "                             for t in range(1, len(data) + 1)])\n",
    "    parameters_gradient = np.array([gradient_alpha, gradient_beta, gradient_gamma, gradient_delta, gradient_t_0])\n",
    "    return parameters_gradient"
   ]
  },
  {
   "cell_type": "code",
   "execution_count": 305,
   "metadata": {},
   "outputs": [],
   "source": [
    "def T(t, alpha, beta, gamma, delta, t_0):\n",
    "    return (alpha * (t - t_0) + beta) * np.sin((2 * np.pi * (t - t_0))/12) + gamma * t + delta\n",
    "\n",
    "def objective_function(parameters, data):\n",
    "    alpha, beta, gamma, delta, t_0 = parameters\n",
    "    predicted = np.array([T(t, alpha, beta, gamma, delta, t_0) for t in range(1, len(data) + 1)])\n",
    "    error = predicted - np.array(data)\n",
    "    return np.sum(error**2)\n",
    "\n",
    "def newtons_method(func, initial_params, data, sigma, b, max_iterations=100, epsilon=1e-8):\n",
    "    parameters = np.array(initial_params)\n",
    "    for _ in range(max_iterations):\n",
    "        gradient_func = grad(func, argnum=0)\n",
    "        hessian_func = hessian(func, argnum=0)\n",
    "        gradient_at_point = gradient_func(parameters, data)\n",
    "        hessian_at_point = hessian_func(parameters, data)\n",
    "        \n",
    "        grad_hess = np.linalg.inv(hessian_at_point) @ gradient_at_point\n",
    "        \n",
    "        a = 1.0\n",
    "        while func(parameters - a * grad_hess, data) >= func(parameters, data) - \\\n",
    "                                    sigma * a * gradient_at_point.T @ grad_hess:\n",
    "            a *= b\n",
    "        parameters -= a * grad_hess  # Update parameters\n",
    "        \n",
    "        if np.linalg.norm(a * grad_hess) < epsilon:\n",
    "            break\n",
    "            \n",
    "    return parameters, a"
   ]
  },
  {
   "cell_type": "code",
   "execution_count": 306,
   "metadata": {},
   "outputs": [
    {
     "name": "stdout",
     "output_type": "stream",
     "text": [
      "Wall time: 4.1 s\n"
     ]
    }
   ],
   "source": [
    "%%time\n",
    "initial_params = [1.0, 1.0,  1.0,  1.0,  1.0]\n",
    "sigma = 0.5\n",
    "b = 0.5\n",
    "\n",
    "params = newtons_method(objective_function, initial_params, mounthly_temperature, sigma, b)"
   ]
  },
  {
   "cell_type": "code",
   "execution_count": 307,
   "metadata": {},
   "outputs": [
    {
     "data": {
      "text/plain": [
       "(array([0.01094092, 7.97264988, 0.01624561, 8.18077087, 4.16415489]), 1.0)"
      ]
     },
     "execution_count": 307,
     "metadata": {},
     "output_type": "execute_result"
    }
   ],
   "source": [
    "params"
   ]
  },
  {
   "cell_type": "code",
   "execution_count": 308,
   "metadata": {},
   "outputs": [],
   "source": [
    "t = np.linspace(1, 121, 120)\n",
    "\n",
    "theo_temperature = T(t, *params[0])"
   ]
  },
  {
   "cell_type": "code",
   "execution_count": 309,
   "metadata": {},
   "outputs": [
    {
     "data": {
      "image/png": "[encoded data removed]",
      "text/plain": [
       "<Figure size 2160x360 with 1 Axes>"
      ]
     },
     "metadata": {
      "needs_background": "light"
     },
     "output_type": "display_data"
    }
   ],
   "source": [
    "plt.figure(figsize = (30,5))\n",
    "plt.scatter(t, mounthly_temperature)\n",
    "plt.plot(t, theo_temperature)\n",
    "plt.ylim([-10,35])\n",
    "plt.grid()\n",
    "plt.show()"
   ]
  },
  {
   "cell_type": "code",
   "execution_count": 310,
   "metadata": {},
   "outputs": [
    {
     "data": {
      "text/plain": [
       "164.22107125252705"
      ]
     },
     "execution_count": 310,
     "metadata": {},
     "output_type": "execute_result"
    }
   ],
   "source": [
    "objective_function(params[0], mounthly_temperature)"
   ]
  }
 ],
 "metadata": {
  "kernelspec": {
   "display_name": "Python 3",
   "language": "python",
   "name": "python3"
  },
  "language_info": {
   "codemirror_mode": {
    "name": "ipython",
    "version": 3
   },
   "file_extension": ".py",
   "mimetype": "text/x-python",
   "name": "python",
   "nbconvert_exporter": "python",
   "pygments_lexer": "ipython3",
   "version": "3.9.2"
  }
 },
 "nbformat": 4,
 "nbformat_minor": 4
}
