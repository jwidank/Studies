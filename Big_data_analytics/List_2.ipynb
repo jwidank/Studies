{
 "cells": [
  {
   "cell_type": "markdown",
   "metadata": {},
   "source": [
    "https://nycopendata.socrata.com/Social-Services/311-Service-Requests-from-2010-to-Present/erm2-nwe9/about_data\n",
    "\n",
    "https://docs.python.org/3/library/sqlite3.html"
   ]
  },
  {
   "cell_type": "code",
   "execution_count": 79,
   "metadata": {},
   "outputs": [],
   "source": [
    "import sqlite3\n",
    "import dask.dataframe as dd\n",
    "import mysql.connector as mysqlc\n",
    "import pandas as pd"
   ]
  },
  {
   "cell_type": "markdown",
   "metadata": {},
   "source": [
    "Plain csv\n",
    "\n",
    "Tried to read the csv with pandas, but received MemoryError - thus using dask.\n",
    "\n",
    "Dask uses parallel computing, operates on data in chunks."
   ]
  },
  {
   "cell_type": "code",
   "execution_count": 122,
   "metadata": {},
   "outputs": [],
   "source": [
    "cols_to_use = [\"Agency\", \"Complaint Type\", \"Borough\"]\n",
    "cols_dtypes = {\"Agency\": \"object\", \"Complaint Type\": \"object\", \"Borough\": \"object\"}\n",
    "data = dd.read_csv(\"../../311sr.csv\", usecols=cols_to_use, dtype=cols_dtypes)"
   ]
  },
  {
   "cell_type": "code",
   "execution_count": 37,
   "metadata": {},
   "outputs": [
    {
     "data": {
      "text/plain": [
       "Agency                0\n",
       "Complaint Type        0\n",
       "Borough           47074\n",
       "dtype: int64"
      ]
     },
     "execution_count": 37,
     "metadata": {},
     "output_type": "execute_result"
    }
   ],
   "source": [
    "data.isna().sum().compute()"
   ]
  },
  {
   "cell_type": "code",
   "execution_count": 41,
   "metadata": {},
   "outputs": [
    {
     "data": {
      "text/plain": [
       "0           QUEENS\n",
       "1      Unspecified\n",
       "2            BRONX\n",
       "3         BROOKLYN\n",
       "4        MANHATTAN\n",
       "5    STATEN ISLAND\n",
       "6              NaN\n",
       "Name: Borough, dtype: object"
      ]
     },
     "execution_count": 41,
     "metadata": {},
     "output_type": "execute_result"
    }
   ],
   "source": [
    "data[\"Borough\"].unique().compute()"
   ]
  },
  {
   "cell_type": "code",
   "execution_count": 42,
   "metadata": {},
   "outputs": [],
   "source": [
    "data[\"Borough\"] = data[\"Borough\"].fillna(\"Unspecified\")"
   ]
  },
  {
   "cell_type": "code",
   "execution_count": 43,
   "metadata": {},
   "outputs": [
    {
     "data": {
      "text/plain": [
       "Agency            0\n",
       "Complaint Type    0\n",
       "Borough           0\n",
       "dtype: int64"
      ]
     },
     "execution_count": 43,
     "metadata": {},
     "output_type": "execute_result"
    }
   ],
   "source": [
    "data.isna().sum().compute()"
   ]
  },
  {
   "cell_type": "code",
   "execution_count": 44,
   "metadata": {},
   "outputs": [
    {
     "data": {
      "text/plain": [
       "{'Agency': dtype('O'), 'Complaint Type': dtype('O'), 'Borough': dtype('O')}"
      ]
     },
     "execution_count": 44,
     "metadata": {},
     "output_type": "execute_result"
    }
   ],
   "source": [
    "coltypes = dict(data.dtypes)\n",
    "coltypes"
   ]
  },
  {
   "cell_type": "code",
   "execution_count": 45,
   "metadata": {},
   "outputs": [
    {
     "name": "stdout",
     "output_type": "stream",
     "text": [
      "CPU times: total: 3min 8s\n",
      "Wall time: 1min 6s\n"
     ]
    }
   ],
   "source": [
    "%%time\n",
    "most_common_complaint = data[\"Complaint Type\"].value_counts().compute().idxmax()"
   ]
  },
  {
   "cell_type": "code",
   "execution_count": 46,
   "metadata": {},
   "outputs": [
    {
     "name": "stdout",
     "output_type": "stream",
     "text": [
      "Noise - Residential\n"
     ]
    }
   ],
   "source": [
    "print(most_common_complaint)"
   ]
  },
  {
   "cell_type": "code",
   "execution_count": 47,
   "metadata": {},
   "outputs": [
    {
     "name": "stdout",
     "output_type": "stream",
     "text": [
      "CPU times: total: 3min 4s\n",
      "Wall time: 1min 4s\n"
     ]
    }
   ],
   "source": [
    "%%time\n",
    "complaint_counts_by_borough = data.groupby(\"Borough\")[\"Complaint Type\"].value_counts().compute()\n",
    "most_common_complaints = complaint_counts_by_borough.groupby(\"Borough\").idxmax()"
   ]
  },
  {
   "cell_type": "code",
   "execution_count": 48,
   "metadata": {},
   "outputs": [
    {
     "name": "stdout",
     "output_type": "stream",
     "text": [
      "Borough\n",
      "BRONX                 (BRONX, Noise - Residential)\n",
      "BROOKLYN           (BROOKLYN, Noise - Residential)\n",
      "MANHATTAN         (MANHATTAN, Noise - Residential)\n",
      "QUEENS                   (QUEENS, Illegal Parking)\n",
      "STATEN ISLAND    (STATEN ISLAND, Street Condition)\n",
      "Unspecified                 (Unspecified, HEATING)\n",
      "Name: count, dtype: object\n"
     ]
    }
   ],
   "source": [
    "print(most_common_complaints)"
   ]
  },
  {
   "cell_type": "code",
   "execution_count": 49,
   "metadata": {},
   "outputs": [
    {
     "name": "stdout",
     "output_type": "stream",
     "text": [
      "CPU times: total: 2min 57s\n",
      "Wall time: 1min 1s\n"
     ]
    }
   ],
   "source": [
    "%%time\n",
    "complaints_list = [\"Noise - Residential\", \"Illegal Parking\", \"Street Condition\", \"HEATING\"]\n",
    "agencies_with_complaints = data[data[\"Complaint Type\"].isin(complaints_list)]\n",
    "agencies_with_complaints_count = agencies_with_complaints.groupby([\"Agency\", \"Complaint Type\"]).size().compute()"
   ]
  },
  {
   "cell_type": "code",
   "execution_count": 50,
   "metadata": {},
   "outputs": [
    {
     "name": "stdout",
     "output_type": "stream",
     "text": [
      "Agency  Complaint Type     \n",
      "DOT     Street Condition       1246723\n",
      "HPD     HEATING                 887869\n",
      "NYPD    Illegal Parking        2399699\n",
      "        Noise - Residential    3303371\n",
      "3-1-1   Illegal Parking              2\n",
      "NYPD    Street Condition             6\n",
      "DOITT   Noise - Residential          2\n",
      "dtype: int64\n"
     ]
    }
   ],
   "source": [
    "print(agencies_with_complaints_count)"
   ]
  },
  {
   "cell_type": "markdown",
   "metadata": {},
   "source": [
    "SQLite"
   ]
  },
  {
   "cell_type": "code",
   "execution_count": 91,
   "metadata": {},
   "outputs": [],
   "source": [
    "cols_to_use = [\"Agency\", \"Complaint Type\", \"Borough\"]\n",
    "cols_dtypes = {\"Agency\": \"object\", \"Complaint Type\": \"object\", \"Borough\": \"object\"}\n",
    "data = dd.read_csv(\"../../311sr.csv\", usecols=cols_to_use, dtype=cols_dtypes)\n",
    "data = data.rename(columns={'Complaint Type': 'ComplaintType'})\n",
    "data[\"Borough\"] = data[\"Borough\"].fillna(\"Unspecified\")"
   ]
  },
  {
   "cell_type": "code",
   "execution_count": 92,
   "metadata": {},
   "outputs": [],
   "source": [
    "script = \"CREATE TABLE mytable(Agency TEXT, ComplaintType TEXT, Borough TEXT)\"\n",
    "script2 = \"INSERT INTO mytable VALUES(?, ?, ?)\""
   ]
  },
  {
   "cell_type": "code",
   "execution_count": 93,
   "metadata": {},
   "outputs": [
    {
     "name": "stdout",
     "output_type": "stream",
     "text": [
      "CPU times: total: 1min 33s\n",
      "Wall time: 1min 55s\n"
     ]
    },
    {
     "data": {
      "text/plain": [
       "<sqlite3.Cursor at 0x1fbcc5513c0>"
      ]
     },
     "execution_count": 93,
     "metadata": {},
     "output_type": "execute_result"
    }
   ],
   "source": [
    "%%time\n",
    "records = data.to_records(index=False).compute()\n",
    "records = list(records) # create a list of tuples representing rows\n",
    "con = sqlite3.connect(\"task2.db\") # create a connection to database\n",
    "cur = con.cursor() # create database cursor\n",
    "cur.execute(script) # create table"
   ]
  },
  {
   "cell_type": "code",
   "execution_count": 94,
   "metadata": {},
   "outputs": [
    {
     "data": {
      "text/plain": [
       "('mytable',)"
      ]
     },
     "execution_count": 94,
     "metadata": {},
     "output_type": "execute_result"
    }
   ],
   "source": [
    "res = cur.execute(\"SELECT name FROM sqlite_master\") # check if the table is created\n",
    "res.fetchone()"
   ]
  },
  {
   "cell_type": "code",
   "execution_count": 95,
   "metadata": {},
   "outputs": [
    {
     "name": "stdout",
     "output_type": "stream",
     "text": [
      "(0, 'Agency', 'TEXT', 0, None, 0)\n",
      "(1, 'ComplaintType', 'TEXT', 0, None, 0)\n",
      "(2, 'Borough', 'TEXT', 0, None, 0)\n"
     ]
    }
   ],
   "source": [
    "for row in cur.execute(\"PRAGMA table_info(mytable)\"): # check column types\n",
    "    print(row)"
   ]
  },
  {
   "cell_type": "code",
   "execution_count": 96,
   "metadata": {},
   "outputs": [
    {
     "data": {
      "text/plain": [
       "[(0, 'NYPD', 'Noise - Residential', 'MANHATTAN'),\n",
       " (1, 'OSE', 'NonCompliance with Phased Reopening', 'BROOKLYN'),\n",
       " (2, 'DSNY', 'Overflowing Litter Baskets', 'BROOKLYN'),\n",
       " (3, 'NYPD', 'Noise - Residential', 'BROOKLYN')]"
      ]
     },
     "execution_count": 96,
     "metadata": {},
     "output_type": "execute_result"
    }
   ],
   "source": [
    "records[:4] # check if records look correct - index included even though index=False "
   ]
  },
  {
   "cell_type": "code",
   "execution_count": 97,
   "metadata": {},
   "outputs": [
    {
     "data": {
      "text/plain": [
       "numpy.record"
      ]
     },
     "execution_count": 97,
     "metadata": {},
     "output_type": "execute_result"
    }
   ],
   "source": [
    "type(records[0])"
   ]
  },
  {
   "cell_type": "code",
   "execution_count": 98,
   "metadata": {},
   "outputs": [
    {
     "name": "stdout",
     "output_type": "stream",
     "text": [
      "CPU times: total: 2min 18s\n",
      "Wall time: 2min 32s\n"
     ]
    }
   ],
   "source": [
    "%%time\n",
    "records = [tuple(records[i])[1:4] for i in range(len(records))] # converting numpy.record to tuples\n",
    "cur.executemany(script2, records) # populate table\n",
    "con.commit()"
   ]
  },
  {
   "cell_type": "code",
   "execution_count": 102,
   "metadata": {},
   "outputs": [
    {
     "data": {
      "text/plain": [
       "[('NYPD', 'MANHATTAN', 'Noise - Residential'),\n",
       " ('OSE', 'BROOKLYN', 'NonCompliance with Phased Reopening'),\n",
       " ('DSNY', 'BROOKLYN', 'Overflowing Litter Baskets'),\n",
       " ('NYPD', 'BROOKLYN', 'Noise - Residential'),\n",
       " ('NYPD', 'BROOKLYN', 'Noise - Street/Sidewalk')]"
      ]
     },
     "execution_count": 102,
     "metadata": {},
     "output_type": "execute_result"
    }
   ],
   "source": [
    "check = cur.execute(\"SELECT Agency, Borough, ComplaintType FROM mytable LIMIT 5\") # check if table is populated\n",
    "check.fetchall()"
   ]
  },
  {
   "cell_type": "code",
   "execution_count": 100,
   "metadata": {},
   "outputs": [
    {
     "name": "stdout",
     "output_type": "stream",
     "text": [
      "CPU times: total: 23.3 s\n",
      "Wall time: 26 s\n"
     ]
    },
    {
     "data": {
      "text/plain": [
       "('Noise - Residential', 3304053)"
      ]
     },
     "execution_count": 100,
     "metadata": {},
     "output_type": "execute_result"
    }
   ],
   "source": [
    "%%time\n",
    "most_common_complaint = cur.execute(\"\"\"\n",
    "    SELECT ComplaintType, COUNT(ComplaintType) AS Count\n",
    "    FROM mytable\n",
    "    GROUP BY ComplaintType\n",
    "    ORDER BY Count DESC\n",
    "    LIMIT 1;\n",
    "\"\"\")\n",
    "\n",
    "most_common_complaint.fetchone()"
   ]
  },
  {
   "cell_type": "code",
   "execution_count": 103,
   "metadata": {},
   "outputs": [
    {
     "name": "stdout",
     "output_type": "stream",
     "text": [
      "CPU times: total: 44.3 s\n",
      "Wall time: 52.9 s\n"
     ]
    },
    {
     "data": {
      "text/plain": [
       "[('BRONX', 'Noise - Residential'),\n",
       " ('BROOKLYN', 'Noise - Residential'),\n",
       " ('MANHATTAN', 'Noise - Residential'),\n",
       " ('QUEENS', 'Illegal Parking'),\n",
       " ('STATEN ISLAND', 'Street Condition'),\n",
       " ('Unspecified', 'HEATING')]"
      ]
     },
     "execution_count": 103,
     "metadata": {},
     "output_type": "execute_result"
    }
   ],
   "source": [
    "%%time\n",
    "most_common_complaints = cur.execute(\"\"\"\n",
    "    WITH RankedComplaints AS (\n",
    "    SELECT\n",
    "        Borough,\n",
    "        ComplaintType,\n",
    "        ROW_NUMBER() OVER(PARTITION BY Borough ORDER BY COUNT(*) DESC) as Rank\n",
    "    FROM mytable\n",
    "    GROUP BY Borough, ComplaintType\n",
    "    )\n",
    "    SELECT Borough, ComplaintType\n",
    "    FROM RankedComplaints\n",
    "    WHERE Rank = 1;\n",
    "\"\"\")\n",
    "\n",
    "most_common_complaints.fetchall()"
   ]
  },
  {
   "cell_type": "code",
   "execution_count": 104,
   "metadata": {},
   "outputs": [
    {
     "name": "stdout",
     "output_type": "stream",
     "text": [
      "CPU times: total: 10.8 s\n",
      "Wall time: 12.1 s\n"
     ]
    },
    {
     "data": {
      "text/plain": [
       "[('3-1-1', 'Illegal Parking', 2),\n",
       " ('DOITT', 'Noise - Residential', 2),\n",
       " ('DOT', 'Street Condition', 1246403),\n",
       " ('HPD', 'HEATING', 887869),\n",
       " ('NYC311-PRD', 'Street Condition', 691),\n",
       " ('NYPD', 'Illegal Parking', 2401183),\n",
       " ('NYPD', 'Noise - Residential', 3304051),\n",
       " ('NYPD', 'Street Condition', 6)]"
      ]
     },
     "execution_count": 104,
     "metadata": {},
     "output_type": "execute_result"
    }
   ],
   "source": [
    "%%time\n",
    "agencies_with_complaints_count = cur.execute(\"\"\"\n",
    "    SELECT Agency, ComplaintType, COUNT(*) AS Count\n",
    "    FROM mytable\n",
    "    WHERE ComplaintType IN ('Noise - Residential', 'Illegal Parking', 'Street Condition', 'HEATING')\n",
    "    GROUP BY Agency, ComplaintType\n",
    "    ORDER BY Agency, ComplaintType;\n",
    "\"\"\")\n",
    "\n",
    "agencies_with_complaints_count.fetchall()"
   ]
  },
  {
   "cell_type": "code",
   "execution_count": null,
   "metadata": {},
   "outputs": [],
   "source": [
    "con.close()"
   ]
  },
  {
   "cell_type": "markdown",
   "metadata": {},
   "source": [
    "MySQL"
   ]
  },
  {
   "cell_type": "code",
   "execution_count": 5,
   "metadata": {},
   "outputs": [],
   "source": [
    "cols_to_use = [\"Agency\", \"Complaint Type\", \"Borough\"]\n",
    "cols_dtypes = {\"Agency\": \"object\", \"Complaint Type\": \"object\", \"Borough\": \"object\"}\n",
    "data = dd.read_csv(\"../../311sr.csv\", usecols=cols_to_use, dtype=cols_dtypes)\n",
    "data = data.rename(columns={'Complaint Type': 'ComplaintType'})\n",
    "data[\"Borough\"] = data[\"Borough\"].fillna(\"Unspecified\")"
   ]
  },
  {
   "cell_type": "code",
   "execution_count": 12,
   "metadata": {},
   "outputs": [],
   "source": [
    "script = \"CREATE TABLE mytable(Agency TEXT, ComplaintType TEXT, Borough TEXT)\"\n",
    "script2 = \"INSERT INTO mytable (Agency, ComplaintType, Borough) VALUES(%s, %s, %s)\""
   ]
  },
  {
   "cell_type": "code",
   "execution_count": 7,
   "metadata": {},
   "outputs": [
    {
     "name": "stdout",
     "output_type": "stream",
     "text": [
      "CPU times: total: 1min 6s\n",
      "Wall time: 1min 49s\n"
     ]
    }
   ],
   "source": [
    "%%time\n",
    "records = data.to_records(index=False).compute()\n",
    "records = list(records) # create a list of tuples representing rows\n",
    "mydb = mysqlc.connect(host=\"localhost\", user=\"root\", password=\"1234\", database=\"bigdata\")\n",
    "mycursor = mydb.cursor()\n",
    "mycursor.execute(script)"
   ]
  },
  {
   "cell_type": "code",
   "execution_count": 19,
   "metadata": {},
   "outputs": [
    {
     "data": {
      "text/plain": [
       "[('mytable',)]"
      ]
     },
     "execution_count": 19,
     "metadata": {},
     "output_type": "execute_result"
    }
   ],
   "source": [
    "mycursor.fetchall()"
   ]
  },
  {
   "cell_type": "code",
   "execution_count": 29,
   "metadata": {},
   "outputs": [],
   "source": [
    "query = \"\"\"\n",
    "SELECT COLUMN_NAME, DATA_TYPE\n",
    "FROM INFORMATION_SCHEMA.COLUMNS\n",
    "WHERE TABLE_SCHEMA = 'bigdata' AND TABLE_NAME = 'mytable';\n",
    "\"\"\"\n",
    "mycursor.execute(query)"
   ]
  },
  {
   "cell_type": "code",
   "execution_count": 30,
   "metadata": {},
   "outputs": [
    {
     "data": {
      "text/plain": [
       "[('Agency', 'text'), ('ComplaintType', 'text'), ('Borough', 'text')]"
      ]
     },
     "execution_count": 30,
     "metadata": {},
     "output_type": "execute_result"
    }
   ],
   "source": [
    "mycursor.fetchall()"
   ]
  },
  {
   "cell_type": "code",
   "execution_count": 36,
   "metadata": {},
   "outputs": [
    {
     "name": "stdout",
     "output_type": "stream",
     "text": [
      "CPU times: total: 1min 45s\n",
      "Wall time: 1min 56s\n"
     ]
    }
   ],
   "source": [
    "%%time\n",
    "records = [tuple(records[i])[1:4] for i in range(len(records))] # converting numpy.record to tuples"
   ]
  },
  {
   "cell_type": "code",
   "execution_count": 72,
   "metadata": {},
   "outputs": [
    {
     "name": "stdout",
     "output_type": "stream",
     "text": [
      "CPU times: total: 1min 54s\n",
      "Wall time: 9min 23s\n"
     ]
    }
   ],
   "source": [
    "%%time\n",
    "for i in range(0, len(records), 10000): # inserting in batches, otherwise connection is lost\n",
    "    batch = records[i:i+10000]\n",
    "    mycursor.executemany(script2, batch) # populate table\n",
    "    mydb.commit()"
   ]
  },
  {
   "cell_type": "code",
   "execution_count": 73,
   "metadata": {},
   "outputs": [
    {
     "data": {
      "text/plain": [
       "[('NYPD', 'MANHATTAN', 'Noise - Residential'),\n",
       " ('OSE', 'BROOKLYN', 'NonCompliance with Phased Reopening'),\n",
       " ('DSNY', 'BROOKLYN', 'Overflowing Litter Baskets'),\n",
       " ('NYPD', 'BROOKLYN', 'Noise - Residential'),\n",
       " ('NYPD', 'BROOKLYN', 'Noise - Street/Sidewalk')]"
      ]
     },
     "execution_count": 73,
     "metadata": {},
     "output_type": "execute_result"
    }
   ],
   "source": [
    "mycursor.execute(\"SELECT Agency, Borough, ComplaintType FROM mytable LIMIT 5\")\n",
    "mycursor.fetchall()"
   ]
  },
  {
   "cell_type": "code",
   "execution_count": 78,
   "metadata": {},
   "outputs": [
    {
     "name": "stdout",
     "output_type": "stream",
     "text": [
      "CPU times: total: 0 ns\n",
      "Wall time: 3min 9s\n"
     ]
    },
    {
     "data": {
      "text/plain": [
       "[('Noise - Residential', 3304053)]"
      ]
     },
     "execution_count": 78,
     "metadata": {},
     "output_type": "execute_result"
    }
   ],
   "source": [
    "%%time\n",
    "mycursor.execute(\"\"\"\n",
    "    SELECT ComplaintType, COUNT(ComplaintType) AS Count\n",
    "    FROM mytable\n",
    "    GROUP BY ComplaintType\n",
    "    ORDER BY Count DESC\n",
    "    LIMIT 1;\n",
    "\"\"\")\n",
    "\n",
    "mycursor.fetchall()"
   ]
  },
  {
   "cell_type": "code",
   "execution_count": 82,
   "metadata": {},
   "outputs": [
    {
     "name": "stdout",
     "output_type": "stream",
     "text": [
      "CPU times: total: 0 ns\n",
      "Wall time: 3min 44s\n"
     ]
    },
    {
     "data": {
      "text/plain": [
       "[('BRONX', 'Noise - Residential'),\n",
       " ('BROOKLYN', 'Noise - Residential'),\n",
       " ('MANHATTAN', 'Noise - Residential'),\n",
       " ('QUEENS', 'Illegal Parking'),\n",
       " ('STATEN ISLAND', 'Street Condition'),\n",
       " ('Unspecified', 'HEATING')]"
      ]
     },
     "execution_count": 82,
     "metadata": {},
     "output_type": "execute_result"
    }
   ],
   "source": [
    "%%time\n",
    "mycursor.execute(\"\"\"\n",
    "    WITH RankedComplaints AS (\n",
    "    SELECT Borough, ComplaintType, ROW_NUMBER() OVER(PARTITION BY Borough ORDER BY COUNT(*) DESC) as R\n",
    "    FROM mytable\n",
    "    GROUP BY Borough, ComplaintType\n",
    "    )\n",
    "    SELECT Borough, ComplaintType\n",
    "    FROM RankedComplaints\n",
    "    WHERE R = 1;\n",
    "\"\"\")\n",
    "\n",
    "mycursor.fetchall()"
   ]
  },
  {
   "cell_type": "code",
   "execution_count": 83,
   "metadata": {},
   "outputs": [
    {
     "name": "stdout",
     "output_type": "stream",
     "text": [
      "CPU times: total: 0 ns\n",
      "Wall time: 45.8 s\n"
     ]
    },
    {
     "data": {
      "text/plain": [
       "[('3-1-1', 'Illegal Parking', 2),\n",
       " ('DOITT', 'Noise - Residential', 2),\n",
       " ('DOT', 'Street Condition', 1246403),\n",
       " ('HPD', 'HEATING', 887869),\n",
       " ('NYC311-PRD', 'Street Condition', 691),\n",
       " ('NYPD', 'Illegal Parking', 2401183),\n",
       " ('NYPD', 'Noise - Residential', 3304051),\n",
       " ('NYPD', 'Street Condition', 6)]"
      ]
     },
     "execution_count": 83,
     "metadata": {},
     "output_type": "execute_result"
    }
   ],
   "source": [
    "%%time\n",
    "mycursor.execute(\"\"\"\n",
    "    SELECT Agency, ComplaintType, COUNT(*) AS C\n",
    "    FROM mytable\n",
    "    WHERE ComplaintType IN ('Noise - Residential', 'Illegal Parking', 'Street Condition', 'HEATING')\n",
    "    GROUP BY Agency, ComplaintType\n",
    "    ORDER BY Agency, ComplaintType;\n",
    "\"\"\")\n",
    "\n",
    "mycursor.fetchall()"
   ]
  },
  {
   "cell_type": "markdown",
   "metadata": {},
   "source": [
    "Results"
   ]
  },
  {
   "cell_type": "code",
   "execution_count": 107,
   "metadata": {},
   "outputs": [
    {
     "data": {
      "text/html": [
       "<div>\n",
       "<style scoped>\n",
       "    .dataframe tbody tr th:only-of-type {\n",
       "        vertical-align: middle;\n",
       "    }\n",
       "\n",
       "    .dataframe tbody tr th {\n",
       "        vertical-align: top;\n",
       "    }\n",
       "\n",
       "    .dataframe thead th {\n",
       "        text-align: right;\n",
       "    }\n",
       "</style>\n",
       "<table border=\"1\" class=\"dataframe\">\n",
       "  <thead>\n",
       "    <tr style=\"text-align: right;\">\n",
       "      <th></th>\n",
       "      <th>time</th>\n",
       "      <th>query</th>\n",
       "      <th>csv</th>\n",
       "      <th>sqlite</th>\n",
       "      <th>mysql</th>\n",
       "    </tr>\n",
       "  </thead>\n",
       "  <tbody>\n",
       "    <tr>\n",
       "      <th>0</th>\n",
       "      <td>cpu</td>\n",
       "      <td>1</td>\n",
       "      <td>188</td>\n",
       "      <td>23.3</td>\n",
       "      <td>0.0</td>\n",
       "    </tr>\n",
       "    <tr>\n",
       "      <th>1</th>\n",
       "      <td>cpu</td>\n",
       "      <td>2</td>\n",
       "      <td>184</td>\n",
       "      <td>44.3</td>\n",
       "      <td>0.0</td>\n",
       "    </tr>\n",
       "    <tr>\n",
       "      <th>2</th>\n",
       "      <td>cpu</td>\n",
       "      <td>3</td>\n",
       "      <td>177</td>\n",
       "      <td>10.8</td>\n",
       "      <td>0.0</td>\n",
       "    </tr>\n",
       "    <tr>\n",
       "      <th>3</th>\n",
       "      <td>wall</td>\n",
       "      <td>1</td>\n",
       "      <td>66</td>\n",
       "      <td>26.0</td>\n",
       "      <td>189.0</td>\n",
       "    </tr>\n",
       "    <tr>\n",
       "      <th>4</th>\n",
       "      <td>wall</td>\n",
       "      <td>2</td>\n",
       "      <td>64</td>\n",
       "      <td>52.9</td>\n",
       "      <td>224.0</td>\n",
       "    </tr>\n",
       "    <tr>\n",
       "      <th>5</th>\n",
       "      <td>wall</td>\n",
       "      <td>3</td>\n",
       "      <td>61</td>\n",
       "      <td>12.1</td>\n",
       "      <td>45.8</td>\n",
       "    </tr>\n",
       "  </tbody>\n",
       "</table>\n",
       "</div>"
      ],
      "text/plain": [
       "   time  query  csv  sqlite  mysql\n",
       "0   cpu      1  188    23.3    0.0\n",
       "1   cpu      2  184    44.3    0.0\n",
       "2   cpu      3  177    10.8    0.0\n",
       "3  wall      1   66    26.0  189.0\n",
       "4  wall      2   64    52.9  224.0\n",
       "5  wall      3   61    12.1   45.8"
      ]
     },
     "execution_count": 107,
     "metadata": {},
     "output_type": "execute_result"
    }
   ],
   "source": [
    "query_time = pd.read_csv(\"queries.csv\", delimiter=\";\")\n",
    "query_time"
   ]
  },
  {
   "cell_type": "code",
   "execution_count": 106,
   "metadata": {},
   "outputs": [
    {
     "name": "stdout",
     "output_type": "stream",
     "text": [
      "CPU times total (sqlite): 309.40000000000003 s, Wall times total (sqlite): 358.0 s\n"
     ]
    }
   ],
   "source": [
    "print(f\"CPU times total (sqlite): {93+138+23.3+44.3+10.8} s, Wall times total (sqlite): {115+152+26+52.9+12.1} s\")"
   ]
  },
  {
   "cell_type": "code",
   "execution_count": 89,
   "metadata": {},
   "outputs": [
    {
     "name": "stdout",
     "output_type": "stream",
     "text": [
      "CPU times total (mysql): 285 s, Wall times total (mysql): 1246.8 s\n"
     ]
    }
   ],
   "source": [
    "print(f\"CPU times total (mysql): {66+105+114} s, Wall times total (mysql): {45.8+224+189+109+116+563} s\")"
   ]
  },
  {
   "cell_type": "markdown",
   "metadata": {},
   "source": [
    "Improving SQL queries efficiency by indexing"
   ]
  },
  {
   "cell_type": "markdown",
   "metadata": {},
   "source": [
    "SQLite"
   ]
  },
  {
   "cell_type": "code",
   "execution_count": 108,
   "metadata": {},
   "outputs": [],
   "source": [
    "con = sqlite3.connect(\"task2.db\")\n",
    "cur = con.cursor()"
   ]
  },
  {
   "cell_type": "code",
   "execution_count": 109,
   "metadata": {},
   "outputs": [
    {
     "data": {
      "text/plain": [
       "<sqlite3.Cursor at 0x1fbcc550840>"
      ]
     },
     "execution_count": 109,
     "metadata": {},
     "output_type": "execute_result"
    }
   ],
   "source": [
    "cur.execute(\"CREATE INDEX idx_complaint_type ON mytable(ComplaintType);\")"
   ]
  },
  {
   "cell_type": "code",
   "execution_count": 111,
   "metadata": {},
   "outputs": [
    {
     "data": {
      "text/plain": [
       "<sqlite3.Cursor at 0x1fbcc550840>"
      ]
     },
     "execution_count": 111,
     "metadata": {},
     "output_type": "execute_result"
    }
   ],
   "source": [
    "cur.execute(\"CREATE INDEX idx_agency ON mytable(Agency);\")"
   ]
  },
  {
   "cell_type": "code",
   "execution_count": 113,
   "metadata": {},
   "outputs": [
    {
     "data": {
      "text/plain": [
       "<sqlite3.Cursor at 0x1fbcc550840>"
      ]
     },
     "execution_count": 113,
     "metadata": {},
     "output_type": "execute_result"
    }
   ],
   "source": [
    "cur.execute(\"CREATE INDEX idx_borough ON mytable(Borough);\")"
   ]
  },
  {
   "cell_type": "code",
   "execution_count": 115,
   "metadata": {},
   "outputs": [
    {
     "data": {
      "text/plain": [
       "[(0, 'idx_borough', 0, 'c', 0),\n",
       " (1, 'idx_agency', 0, 'c', 0),\n",
       " (2, 'idx_complaint_type', 0, 'c', 0)]"
      ]
     },
     "execution_count": 115,
     "metadata": {},
     "output_type": "execute_result"
    }
   ],
   "source": [
    "cur.execute(\"PRAGMA index_list(mytable)\")\n",
    "cur.fetchall()"
   ]
  },
  {
   "cell_type": "code",
   "execution_count": 116,
   "metadata": {},
   "outputs": [
    {
     "name": "stdout",
     "output_type": "stream",
     "text": [
      "CPU times: total: 4.38 s\n",
      "Wall time: 5.82 s\n"
     ]
    },
    {
     "data": {
      "text/plain": [
       "[('Noise - Residential', 3304053)]"
      ]
     },
     "execution_count": 116,
     "metadata": {},
     "output_type": "execute_result"
    }
   ],
   "source": [
    "%%time\n",
    "most_common_complaint = cur.execute(\"\"\"\n",
    "    SELECT ComplaintType, COUNT(ComplaintType) AS Count\n",
    "    FROM mytable\n",
    "    GROUP BY ComplaintType\n",
    "    ORDER BY Count DESC\n",
    "    LIMIT 1;\n",
    "\"\"\")\n",
    "\n",
    "most_common_complaint.fetchall()"
   ]
  },
  {
   "cell_type": "code",
   "execution_count": 117,
   "metadata": {},
   "outputs": [
    {
     "name": "stdout",
     "output_type": "stream",
     "text": [
      "CPU times: total: 48.2 s\n",
      "Wall time: 1min 14s\n"
     ]
    },
    {
     "data": {
      "text/plain": [
       "[('BRONX', 'Noise - Residential'),\n",
       " ('BROOKLYN', 'Noise - Residential'),\n",
       " ('MANHATTAN', 'Noise - Residential'),\n",
       " ('QUEENS', 'Illegal Parking'),\n",
       " ('STATEN ISLAND', 'Street Condition'),\n",
       " ('Unspecified', 'HEATING')]"
      ]
     },
     "execution_count": 117,
     "metadata": {},
     "output_type": "execute_result"
    }
   ],
   "source": [
    "%%time\n",
    "most_common_complaints = cur.execute(\"\"\"\n",
    "    WITH RankedComplaints AS (\n",
    "    SELECT\n",
    "        Borough,\n",
    "        ComplaintType,\n",
    "        ROW_NUMBER() OVER(PARTITION BY Borough ORDER BY COUNT(*) DESC) as Rank\n",
    "    FROM mytable\n",
    "    GROUP BY Borough, ComplaintType\n",
    "    )\n",
    "    SELECT Borough, ComplaintType\n",
    "    FROM RankedComplaints\n",
    "    WHERE Rank = 1;\n",
    "\"\"\")\n",
    "\n",
    "most_common_complaints.fetchall()"
   ]
  },
  {
   "cell_type": "code",
   "execution_count": 118,
   "metadata": {},
   "outputs": [
    {
     "name": "stdout",
     "output_type": "stream",
     "text": [
      "CPU times: total: 7.88 s\n",
      "Wall time: 15.4 s\n"
     ]
    },
    {
     "data": {
      "text/plain": [
       "[('3-1-1', 'Illegal Parking', 2),\n",
       " ('DOITT', 'Noise - Residential', 2),\n",
       " ('DOT', 'Street Condition', 1246403),\n",
       " ('HPD', 'HEATING', 887869),\n",
       " ('NYC311-PRD', 'Street Condition', 691),\n",
       " ('NYPD', 'Illegal Parking', 2401183),\n",
       " ('NYPD', 'Noise - Residential', 3304051),\n",
       " ('NYPD', 'Street Condition', 6)]"
      ]
     },
     "execution_count": 118,
     "metadata": {},
     "output_type": "execute_result"
    }
   ],
   "source": [
    "%%time\n",
    "agencies_with_complaints_count = cur.execute(\"\"\"\n",
    "    SELECT Agency, ComplaintType, COUNT(*) AS Count\n",
    "    FROM mytable\n",
    "    WHERE ComplaintType IN ('Noise - Residential', 'Illegal Parking', 'Street Condition', 'HEATING')\n",
    "    GROUP BY Agency, ComplaintType\n",
    "    ORDER BY Agency, ComplaintType;\n",
    "\"\"\")\n",
    "\n",
    "agencies_with_complaints_count.fetchall()"
   ]
  },
  {
   "cell_type": "code",
   "execution_count": 119,
   "metadata": {},
   "outputs": [],
   "source": [
    "con.close()"
   ]
  },
  {
   "cell_type": "markdown",
   "metadata": {},
   "source": [
    "MySQL"
   ]
  },
  {
   "cell_type": "code",
   "execution_count": 120,
   "metadata": {},
   "outputs": [],
   "source": [
    "mydb = mysqlc.connect(host=\"localhost\", user=\"root\", password=\"1234\", database=\"bigdata\")\n",
    "mycursor = mydb.cursor()"
   ]
  },
  {
   "cell_type": "code",
   "execution_count": 142,
   "metadata": {},
   "outputs": [],
   "source": [
    "mycursor.execute(\"CREATE INDEX idx_complaint_type ON mytable(ComplaintType(15));\")"
   ]
  },
  {
   "cell_type": "code",
   "execution_count": 144,
   "metadata": {},
   "outputs": [],
   "source": [
    "mycursor.execute(\"CREATE INDEX idx_agency ON mytable(Agency(15));\")"
   ]
  },
  {
   "cell_type": "code",
   "execution_count": 145,
   "metadata": {},
   "outputs": [],
   "source": [
    "mycursor.execute(\"CREATE INDEX idx_borough ON mytable(Borough(5));\")"
   ]
  },
  {
   "cell_type": "code",
   "execution_count": 148,
   "metadata": {},
   "outputs": [
    {
     "name": "stdout",
     "output_type": "stream",
     "text": [
      "('mytable', 1, 'idx_complaint_type', 1, 'ComplaintType', 'A', 37674, 15, None, 'YES', 'BTREE', '', '', 'YES', None)\n",
      "('mytable', 1, 'idx_agency', 1, 'Agency', 'A', 7628, 15, None, 'YES', 'BTREE', '', '', 'YES', None)\n",
      "('mytable', 1, 'idx_borough', 1, 'Borough', 'A', 3572, 5, None, 'YES', 'BTREE', '', '', 'YES', None)\n"
     ]
    }
   ],
   "source": [
    "mycursor.execute(\"SHOW INDEX FROM mytable;\")\n",
    "indexes = mycursor.fetchall()\n",
    "for index in indexes:\n",
    "    print(index)"
   ]
  },
  {
   "cell_type": "code",
   "execution_count": 149,
   "metadata": {},
   "outputs": [
    {
     "name": "stdout",
     "output_type": "stream",
     "text": [
      "CPU times: total: 0 ns\n",
      "Wall time: 3min 4s\n"
     ]
    },
    {
     "data": {
      "text/plain": [
       "[('Noise - Residential', 3304053)]"
      ]
     },
     "execution_count": 149,
     "metadata": {},
     "output_type": "execute_result"
    }
   ],
   "source": [
    "%%time\n",
    "mycursor.execute(\"\"\"\n",
    "    SELECT ComplaintType, COUNT(ComplaintType) AS Count\n",
    "    FROM mytable\n",
    "    GROUP BY ComplaintType\n",
    "    ORDER BY Count DESC\n",
    "    LIMIT 1;\n",
    "\"\"\")\n",
    "\n",
    "mycursor.fetchall()"
   ]
  },
  {
   "cell_type": "code",
   "execution_count": 150,
   "metadata": {},
   "outputs": [
    {
     "name": "stdout",
     "output_type": "stream",
     "text": [
      "CPU times: total: 0 ns\n",
      "Wall time: 3min 42s\n"
     ]
    },
    {
     "data": {
      "text/plain": [
       "[('BRONX', 'Noise - Residential'),\n",
       " ('BROOKLYN', 'Noise - Residential'),\n",
       " ('MANHATTAN', 'Noise - Residential'),\n",
       " ('QUEENS', 'Illegal Parking'),\n",
       " ('STATEN ISLAND', 'Street Condition'),\n",
       " ('Unspecified', 'HEATING')]"
      ]
     },
     "execution_count": 150,
     "metadata": {},
     "output_type": "execute_result"
    }
   ],
   "source": [
    "%%time\n",
    "mycursor.execute(\"\"\"\n",
    "    WITH RankedComplaints AS (\n",
    "    SELECT Borough, ComplaintType, ROW_NUMBER() OVER(PARTITION BY Borough ORDER BY COUNT(*) DESC) as R\n",
    "    FROM mytable\n",
    "    GROUP BY Borough, ComplaintType\n",
    "    )\n",
    "    SELECT Borough, ComplaintType\n",
    "    FROM RankedComplaints\n",
    "    WHERE R = 1;\n",
    "\"\"\")\n",
    "\n",
    "mycursor.fetchall()"
   ]
  },
  {
   "cell_type": "code",
   "execution_count": 151,
   "metadata": {},
   "outputs": [
    {
     "name": "stdout",
     "output_type": "stream",
     "text": [
      "CPU times: total: 0 ns\n",
      "Wall time: 40.9 s\n"
     ]
    },
    {
     "data": {
      "text/plain": [
       "[('3-1-1', 'Illegal Parking', 2),\n",
       " ('DOITT', 'Noise - Residential', 2),\n",
       " ('DOT', 'Street Condition', 1246403),\n",
       " ('HPD', 'HEATING', 887869),\n",
       " ('NYC311-PRD', 'Street Condition', 691),\n",
       " ('NYPD', 'Illegal Parking', 2401183),\n",
       " ('NYPD', 'Noise - Residential', 3304051),\n",
       " ('NYPD', 'Street Condition', 6)]"
      ]
     },
     "execution_count": 151,
     "metadata": {},
     "output_type": "execute_result"
    }
   ],
   "source": [
    "%%time\n",
    "mycursor.execute(\"\"\"\n",
    "    SELECT Agency, ComplaintType, COUNT(*) AS C\n",
    "    FROM mytable\n",
    "    WHERE ComplaintType IN ('Noise - Residential', 'Illegal Parking', 'Street Condition', 'HEATING')\n",
    "    GROUP BY Agency, ComplaintType\n",
    "    ORDER BY Agency, ComplaintType;\n",
    "\"\"\")\n",
    "\n",
    "mycursor.fetchall()"
   ]
  },
  {
   "cell_type": "markdown",
   "metadata": {},
   "source": [
    "Results"
   ]
  },
  {
   "cell_type": "code",
   "execution_count": 152,
   "metadata": {},
   "outputs": [
    {
     "data": {
      "text/html": [
       "<div>\n",
       "<style scoped>\n",
       "    .dataframe tbody tr th:only-of-type {\n",
       "        vertical-align: middle;\n",
       "    }\n",
       "\n",
       "    .dataframe tbody tr th {\n",
       "        vertical-align: top;\n",
       "    }\n",
       "\n",
       "    .dataframe thead th {\n",
       "        text-align: right;\n",
       "    }\n",
       "</style>\n",
       "<table border=\"1\" class=\"dataframe\">\n",
       "  <thead>\n",
       "    <tr style=\"text-align: right;\">\n",
       "      <th></th>\n",
       "      <th>time</th>\n",
       "      <th>query</th>\n",
       "      <th>csv</th>\n",
       "      <th>sqlite</th>\n",
       "      <th>mysql</th>\n",
       "      <th>sqlite_idx</th>\n",
       "      <th>mysql_idx</th>\n",
       "    </tr>\n",
       "  </thead>\n",
       "  <tbody>\n",
       "    <tr>\n",
       "      <th>0</th>\n",
       "      <td>cpu</td>\n",
       "      <td>1</td>\n",
       "      <td>188</td>\n",
       "      <td>23.3</td>\n",
       "      <td>0.0</td>\n",
       "      <td>4.38</td>\n",
       "      <td>0.0</td>\n",
       "    </tr>\n",
       "    <tr>\n",
       "      <th>1</th>\n",
       "      <td>cpu</td>\n",
       "      <td>2</td>\n",
       "      <td>184</td>\n",
       "      <td>44.3</td>\n",
       "      <td>0.0</td>\n",
       "      <td>48.20</td>\n",
       "      <td>0.0</td>\n",
       "    </tr>\n",
       "    <tr>\n",
       "      <th>2</th>\n",
       "      <td>cpu</td>\n",
       "      <td>3</td>\n",
       "      <td>177</td>\n",
       "      <td>10.8</td>\n",
       "      <td>0.0</td>\n",
       "      <td>7.88</td>\n",
       "      <td>0.0</td>\n",
       "    </tr>\n",
       "    <tr>\n",
       "      <th>3</th>\n",
       "      <td>wall</td>\n",
       "      <td>1</td>\n",
       "      <td>66</td>\n",
       "      <td>26.0</td>\n",
       "      <td>189.0</td>\n",
       "      <td>5.82</td>\n",
       "      <td>184.0</td>\n",
       "    </tr>\n",
       "    <tr>\n",
       "      <th>4</th>\n",
       "      <td>wall</td>\n",
       "      <td>2</td>\n",
       "      <td>64</td>\n",
       "      <td>52.9</td>\n",
       "      <td>224.0</td>\n",
       "      <td>74.00</td>\n",
       "      <td>222.0</td>\n",
       "    </tr>\n",
       "    <tr>\n",
       "      <th>5</th>\n",
       "      <td>wall</td>\n",
       "      <td>3</td>\n",
       "      <td>61</td>\n",
       "      <td>12.1</td>\n",
       "      <td>45.8</td>\n",
       "      <td>15.40</td>\n",
       "      <td>40.9</td>\n",
       "    </tr>\n",
       "  </tbody>\n",
       "</table>\n",
       "</div>"
      ],
      "text/plain": [
       "   time  query  csv  sqlite  mysql  sqlite_idx  mysql_idx\n",
       "0   cpu      1  188    23.3    0.0        4.38        0.0\n",
       "1   cpu      2  184    44.3    0.0       48.20        0.0\n",
       "2   cpu      3  177    10.8    0.0        7.88        0.0\n",
       "3  wall      1   66    26.0  189.0        5.82      184.0\n",
       "4  wall      2   64    52.9  224.0       74.00      222.0\n",
       "5  wall      3   61    12.1   45.8       15.40       40.9"
      ]
     },
     "execution_count": 152,
     "metadata": {},
     "output_type": "execute_result"
    }
   ],
   "source": [
    "query_time = pd.read_csv(\"queries2.csv\", delimiter=\";\")\n",
    "query_time"
   ]
  },
  {
   "cell_type": "code",
   "execution_count": 153,
   "metadata": {},
   "outputs": [],
   "source": [
    "mydb.close()"
   ]
  },
  {
   "cell_type": "code",
   "execution_count": null,
   "metadata": {},
   "outputs": [],
   "source": []
  }
 ],
 "metadata": {
  "kernelspec": {
   "display_name": "Python 3",
   "language": "python",
   "name": "python3"
  },
  "language_info": {
   "codemirror_mode": {
    "name": "ipython",
    "version": 3
   },
   "file_extension": ".py",
   "mimetype": "text/x-python",
   "name": "python",
   "nbconvert_exporter": "python",
   "pygments_lexer": "ipython3",
   "version": "3.10.11"
  }
 },
 "nbformat": 4,
 "nbformat_minor": 2
}
